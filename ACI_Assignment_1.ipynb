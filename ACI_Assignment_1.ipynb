{
 "cells": [
  {
   "cell_type": "markdown",
   "id": "721c5703",
   "metadata": {},
   "source": [
    "# Data Preprocessing"
   ]
  },
  {
   "cell_type": "code",
   "execution_count": 1,
   "id": "32e1d3b1",
   "metadata": {},
   "outputs": [],
   "source": [
    "import numpy as np\n",
    "# Given data matrix, (-1,-1) represents blockage , (100,100) represents Goal State\n",
    "A= np.array([\n",
    "    [(0.2,0.9),(0.8,1),(0.05,0.05),(0.8,0.9),(0.8,0.9),(-1,-1),(100,100),(0.05,0.05),(0.2,0.1),(-1,-1)],\n",
    "    [(-1,-1),(0.05,0.05),(0.05,0.05),(-1,-1),(0.8,0.9),(0.8,0.9),(0.05,0.05),(0.05,0.05),(0.2,0.1),(0.2,0.1)],\n",
    "    [(0.2,0.9),(-1,-1),(0.2,0.1),(-1,-1),(0.2,0.1),(-1,-1),(-1,-1),(-1,-1),(0.2,0.1),(0.2,0.1)],\n",
    "    [(0.2,0.9),(-1,-1),(0.2,0.1),(-1,-1),(0.2,0.1),(0.3,0.9),(0.2,0.1),(0.2,0.1),(0.2,0.1),(0.2,0.1)],\n",
    "    [(0.2,0.9),(-1,-1),(0.2,0.1),(-1,-1),(0.3,0.9),(0.2,0.1),(0.2,0.1),(0.2,0.9),(0.2,0.9),(0.2,0.1)],\n",
    "    [(0.2,0.9),(0.2,1),(0.2,0.1),(0.3,0.9),(0.3,0.9),(0.2,0.1),(-1,-1),(-1,-1),(-1,-1),(0.05,0.05)],\n",
    "    [(0.2,0),(0.2,0.1),(0.2,0.1),(0.05,0.05),(0.05,0.05),(0.05,0.05),(-1,-1),(0.05,0.05),(0.05,0.05),(0.05,0.05)],\n",
    "    [(0,0),(0,0),(0,0),(0.05,0.05),(0.05,0.05),(0.05,0.05),(-1,-1),(0.05,0.05),(0.05,0.05),(0.05,0.05)],\n",
    "    [(0,0),(0,0),(0,0),(0.05,0.05),(0.05,0.05),(-1,-1),(0.05,0.05),(0.05,0.05),(-1,-1),(0.05,0.05)],\n",
    "    [(0,0),(0,0),(0,0),(-1,-1),(-1,-1),(-1,-1),(0.05,0.05),(0.05,0.05),(-1,-1),(-1,-1)]\n",
    "    ])  \n",
    "# Maze matrix values (x,y) whereas x is probability of mine and y is the probability of detection (PoD)."
   ]
  },
  {
   "cell_type": "code",
   "execution_count": 2,
   "id": "cac76a62",
   "metadata": {},
   "outputs": [
    {
     "name": "stdout",
     "output_type": "stream",
     "text": [
      "The Matrix is: \n",
      " [[2.28, 3.6, 1.1025, 3.42, 3.42, 'B', 'Goal', 1.1025, 1.32, 'B'], ['B', 1.1025, 1.1025, 'B', 3.42, 3.42, 1.1025, 1.1025, 1.32, 1.32], [2.28, 'B', 1.32, 'B', 1.32, 'B', 'B', 'B', 1.32, 1.32], [2.28, 'B', 1.32, 'B', 1.32, 2.4699999999999998, 1.32, 1.32, 1.32, 1.32], [2.28, 'B', 1.32, 'B', 2.4699999999999998, 1.32, 1.32, 2.28, 2.28, 1.32], [2.28, 2.4, 1.32, 2.4699999999999998, 2.4699999999999998, 1.32, 'B', 'B', 'B', 1.1025], [1.2, 1.32, 1.32, 1.1025, 1.1025, 1.1025, 'B', 1.1025, 1.1025, 1.1025], [1.0, 1.0, 1.0, 1.1025, 1.1025, 1.1025, 'B', 1.1025, 1.1025, 1.1025], [1.0, 1.0, 1.0, 1.1025, 1.1025, 'B', 1.1025, 1.1025, 'B', 1.1025], [1.0, 1.0, 1.0, 'B', 'B', 'B', 1.1025, 1.1025, 'B', 'B']]\n"
     ]
    }
   ],
   "source": [
    "#Calculate [(1+PoD)(1+PoM)] for each cell with value PoD/PoM, whereas -1 represents blockage and Goal represent Goat state\n",
    "final=[]\n",
    "for i in A:\n",
    "    inter=[]\n",
    "    for j in i:\n",
    "        if j[0]==100:\n",
    "            inter.append('Goal') #Goal State\n",
    "        elif j[0]!=-1:\n",
    "            inter.append((j[0]+1)*(j[1]+1))#Calculate fitness value for each coordinates and replace (x,y) with [(1+PoD)(1+PoM)]\n",
    "        else:\n",
    "            inter.append('B')  #No Path\n",
    "    final.append(inter)\n",
    "\n",
    "print('The Matrix is: \\n',final)"
   ]
  },
  {
   "cell_type": "markdown",
   "id": "f026c128",
   "metadata": {},
   "source": [
    "# Random Restart Hill Climbing algorithm"
   ]
  },
  {
   "cell_type": "code",
   "execution_count": 6,
   "id": "12aeaf8e",
   "metadata": {},
   "outputs": [],
   "source": [
    "import random\n",
    "def goal_test(neighbores, neighbores_coords): # Check the Goal condition if reached goal or not \n",
    "    if 'Goal' in neighbores:\n",
    "        return neighbores_coords[neighbores.index('Goal')]  #Return index of Goal\n",
    "    return False # return false if goal not found\n",
    "\n",
    "def find_neighbore(x, y, path):\n",
    "    if (x == 0 and y == 0):   # Top-Left Bounary conditions\n",
    "        neighbores = [path[x][y+1]]\n",
    "        neighbores_coords = [(x,y+1)]\n",
    "    elif x == 0: # Top Bounary conditions\n",
    "        neighbores = [path[x][y+1],path[x+1][y]]\n",
    "        neighbores_coords = [(x,y+1),(x+1,y)]\n",
    "    elif (x == 0 and y == len(path)-1): # Top-Right Bounary conditions\n",
    "        neighbores = [path[x-1][y]]\n",
    "        neighbores_coords = [(x-1,y)]\n",
    "    elif (x == len(path)-1 and y == len(path)-1) or y == len(path)-1: # Right-bottom Bounary conditions\n",
    "        neighbores = [path[x][y-1], path[x-1][y]]\n",
    "        neighbores_coords = [(x,y-1),(x-1,y)]\n",
    "    elif (x == len(path)-1 and y == 0) or y == 0:   # Left-bottom Bounary conditions\n",
    "        neighbores = [path[x][y+1], path[x-1][y]]\n",
    "        neighbores_coords = [(x,y+1),(x-1,y)]\n",
    "    else: # Ideal Case\n",
    "        neighbores = [path[x][y+1], path[x][y-1], path[x-1][y]]\n",
    "        neighbores_coords = [(x,y+1),(x,y-1),(x-1,y)]\n",
    "\n",
    "    return neighbores, neighbores_coords  # return the boundaries of the current nodes\n",
    "\n",
    "def best_neighbore(path, starting_point, path_value): #Find the next best value of the current position\n",
    "    x , y = starting_point[0] , starting_point[1]\n",
    "    neighbores, neighbores_coords = find_neighbore(x, y, path) #find all neighbore of the current nodes\n",
    "    IsGoal = goal_test(neighbores, neighbores_coords)  #Check if Goal state meets\n",
    "    if IsGoal != False:  \n",
    "        return True, IsGoal, 0  #Return coordinates if Goal node found\n",
    "        \n",
    "    neighbore_min = neighbores\n",
    "    if 'B' in neighbore_min:  # Remove noPath/Blockage neighbore\n",
    "        neighbore_min = [i for i in neighbore_min if i != 'B']\n",
    "    for i in range(len(neighbore_min)):\n",
    "        best_cost_value = sorted(neighbore_min)[i]  #Minimize(f(n))\n",
    "        \n",
    "        if neighbore_min.count(best_cost_value)>1:\n",
    "            #find best coordinates if repeated values\n",
    "            best_neighbore_value = neighbores_coords[neighbores.index(best_cost_value)+i]  \n",
    "        else:\n",
    "            #find best coordinates if values are not repeated\n",
    "            best_neighbore_value = neighbores_coords[neighbores.index(best_cost_value)] \n",
    "        if best_neighbore_value not in path_value: #If \n",
    "            break\n",
    "    if best_neighbore_value in path_value and i == len(neighbore_min)-1: #If Agent blocked then return None\n",
    "        best_neighbore_value = None\n",
    "    \n",
    "    return IsGoal, best_neighbore_value, best_cost_value\n",
    "\n",
    "def random_restart_hill_climbing(path):\n",
    "    starting_point_list = [(9,0),(8,0),(7,0),(9,1),(9,2)] \n",
    "    starting_point = starting_point_list[random.randrange(len(starting_point_list))]#Randomly select starting node from the maze\n",
    "    #print('Starting Point: ',starting_point)\n",
    "    cost_value = []\n",
    "    path_value = []\n",
    "    path_value.append(starting_point)\n",
    "    for i in range(50):\n",
    "        #find next best neighbore value or next best move and associates cost\n",
    "        Goal_check, best_neighbore_value, best_cost_value = best_neighbore(path, starting_point, path_value) \n",
    "        cost_value.append(best_cost_value)\n",
    "        path_value.append(best_neighbore_value)\n",
    "        if Goal_check == True or best_neighbore_value == None: #Loop break if Goal Found\n",
    "            break \n",
    "        starting_point = best_neighbore_value  #Update current position of the agent\n",
    "        \n",
    "    #print('The path coodinates are : ', path_value)\n",
    "    #print('The path cost is :', sum(cost_value))\n",
    "    return path_value, sum(cost_value)\n"
   ]
  },
  {
   "cell_type": "code",
   "execution_count": 16,
   "id": "8f4b94c7",
   "metadata": {},
   "outputs": [
    {
     "name": "stdout",
     "output_type": "stream",
     "text": [
      "The optimal Path:  [(9, 1), (9, 2), (8, 2), (8, 1), (8, 0), (7, 0), (7, 1), (7, 2), (7, 3), (6, 3), (6, 4), (6, 5), (5, 5), (4, 5), (4, 6), (3, 6), (3, 7), (3, 8), (3, 9), (2, 9), (2, 8), (2, 7), (1, 7), (1, 6), (0, 6)]\n",
      "The optimal Cost:  26.814999999999998\n",
      "The Space and Time Complexity is  0.004638671875\n"
     ]
    }
   ],
   "source": [
    "import time \n",
    "\n",
    "def random_restart_HC(problem, limit=10):\n",
    "    start = time.time()\n",
    "    count = 0\n",
    "    optimal_path = []\n",
    "    optimal_cost = []\n",
    "    while count < limit:\n",
    "        path_value, cost_value = random_restart_hill_climbing(problem)\n",
    "        optimal_path.append(path_value)\n",
    "        optimal_cost.append(float(cost_value))\n",
    "        count += 1\n",
    "    end = time.time()\n",
    "    print('The optimal Path: ', optimal_path[optimal_cost.index(min(optimal_cost))])\n",
    "    print('The optimal Cost: ', min(optimal_cost))\n",
    "    print('The Space and Time Complexity is ', end - start)    \n",
    "    \n",
    "random_restart_HC(final, 5)\n",
    " "
   ]
  },
  {
   "cell_type": "code",
   "execution_count": null,
   "id": "36a8fd68",
   "metadata": {},
   "outputs": [],
   "source": []
  },
  {
   "cell_type": "code",
   "execution_count": null,
   "id": "64c449c2",
   "metadata": {},
   "outputs": [],
   "source": []
  }
 ],
 "metadata": {
  "kernelspec": {
   "display_name": "Python 3 (ipykernel)",
   "language": "python",
   "name": "python3"
  },
  "language_info": {
   "codemirror_mode": {
    "name": "ipython",
    "version": 3
   },
   "file_extension": ".py",
   "mimetype": "text/x-python",
   "name": "python",
   "nbconvert_exporter": "python",
   "pygments_lexer": "ipython3",
   "version": "3.9.13"
  }
 },
 "nbformat": 4,
 "nbformat_minor": 5
}
